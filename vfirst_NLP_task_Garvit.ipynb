{
  "nbformat": 4,
  "nbformat_minor": 0,
  "metadata": {
    "colab": {
      "provenance": []
    },
    "kernelspec": {
      "name": "python3",
      "display_name": "Python 3"
    },
    "language_info": {
      "name": "python"
    },
    "gpuClass": "standard",
    "accelerator": "GPU"
  },
  "cells": [
    {
      "cell_type": "markdown",
      "source": [
        "### NOTE: The code is not written to achieve good accuracy which is the intention of any classification model. Here the steps were shown which we usually follow in a traditional classification problem as we are using BERT embeddings which also sometime handle few stop words so we haven't do text preprocessing (which bert_preprocessing layer can also do) which is again a crucial step to get good accuracy."
      ],
      "metadata": {
        "id": "eoMGpHt0-6N8"
      }
    },
    {
      "cell_type": "code",
      "source": [
        "%%capture\n",
        "\n",
        "# installing transformers library, well known for NLP\n",
        "!pip install transformers\n",
        "!pip install -q -U \"tensorflow-text==2.9.0\""
      ],
      "metadata": {
        "id": "P7uEAZvF365h"
      },
      "execution_count": 1,
      "outputs": []
    },
    {
      "cell_type": "code",
      "source": [
        "import os\n",
        "import re\n",
        "import json\n",
        "import nltk\n",
        "import numpy as np\n",
        "import pandas as pd\n",
        "from tqdm import tqdm\n",
        "import seaborn as sns\n",
        "from nltk.corpus import stopwords\n",
        "from sklearn.model_selection import train_test_split\n"
      ],
      "metadata": {
        "id": "C7rac4HhMCmW"
      },
      "execution_count": 2,
      "outputs": []
    },
    {
      "cell_type": "code",
      "source": [
        "import tensorflow as tf\n",
        "\n",
        "from tensorflow.keras.layers import Embedding, LSTM, Dense, Bidirectional\n",
        "from tensorflow.keras.layers.experimental.preprocessing import TextVectorization\n",
        "from tensorflow.keras.models import Sequential\n",
        "from tensorflow.keras.optimizers import Adam\n",
        "\n",
        "from transformers import BertTokenizer, TFBertModel"
      ],
      "metadata": {
        "id": "rGHgFcqO3Ojl"
      },
      "execution_count": 3,
      "outputs": []
    },
    {
      "cell_type": "code",
      "source": [],
      "metadata": {
        "id": "EaZ37iO9Lwx8"
      },
      "execution_count": 3,
      "outputs": []
    },
    {
      "cell_type": "markdown",
      "metadata": {
        "id": "o-uDKCiedX46"
      },
      "source": [
        "#### Data Loading"
      ]
    },
    {
      "cell_type": "code",
      "source": [
        "from google.colab import drive\n",
        "drive.mount('/content/drive')"
      ],
      "metadata": {
        "colab": {
          "base_uri": "https://localhost:8080/"
        },
        "id": "2YiKhsvnbEBq",
        "outputId": "6425ea13-4f78-4469-f453-4cf4a8199c99"
      },
      "execution_count": 4,
      "outputs": [
        {
          "output_type": "stream",
          "name": "stdout",
          "text": [
            "Drive already mounted at /content/drive; to attempt to forcibly remount, call drive.mount(\"/content/drive\", force_remount=True).\n"
          ]
        }
      ]
    },
    {
      "cell_type": "code",
      "execution_count": 5,
      "metadata": {
        "id": "uoDzHHL8dX47"
      },
      "outputs": [],
      "source": [
        "# loading data files as lines and converting them as \n",
        "# json object for parsing, then converting into dataframe.\n",
        "def data_fetcher(data_file):\n",
        "    raw_data = []\n",
        "    with open(data_file) as file:\n",
        "            for line in file:\n",
        "                raw_data.append(json.loads(line))\n",
        "\n",
        "    raw_data_df = pd.DataFrame(raw_data)\n",
        "\n",
        "    return raw_data_df"
      ]
    },
    {
      "cell_type": "code",
      "execution_count": 6,
      "metadata": {
        "id": "VFmVwbWNdX48"
      },
      "outputs": [],
      "source": [
        "train_df = data_fetcher('/content/drive/MyDrive/vfirst/train.jsonl')\n",
        "test_df = data_fetcher('/content/drive/MyDrive/vfirst/test.jsonl')\n",
        "val_df = data_fetcher('/content/drive/MyDrive/vfirst/dev.jsonl')"
      ]
    },
    {
      "cell_type": "code",
      "source": [
        "len(train_df), len(test_df), len(val_df)"
      ],
      "metadata": {
        "colab": {
          "base_uri": "https://localhost:8080/"
        },
        "id": "JwgNS3CLxbEW",
        "outputId": "44b49e8a-9e08-412b-89e9-1a706ca7cda0"
      },
      "execution_count": 7,
      "outputs": [
        {
          "output_type": "execute_result",
          "data": {
            "text/plain": [
              "(8544, 2210, 1101)"
            ]
          },
          "metadata": {},
          "execution_count": 7
        }
      ]
    },
    {
      "cell_type": "code",
      "source": [
        "# combining data for auto tain_test split of X & Y later on instead of explicit doing.\n",
        "\n",
        "combine_df = pd.concat([train_df, test_df, val_df], axis=0)"
      ],
      "metadata": {
        "id": "e7Eye_FGwZW1"
      },
      "execution_count": 8,
      "outputs": []
    },
    {
      "cell_type": "markdown",
      "metadata": {
        "id": "98s-PcLIdX48"
      },
      "source": [
        "#### Performing basic EDA"
      ]
    },
    {
      "cell_type": "code",
      "execution_count": 9,
      "metadata": {
        "colab": {
          "base_uri": "https://localhost:8080/",
          "height": 206
        },
        "id": "QT5xZRQgdX49",
        "outputId": "143be601-059a-4b0b-d404-47cca7c93b7c"
      },
      "outputs": [
        {
          "output_type": "execute_result",
          "data": {
            "text/plain": [
              "                                                   text  label     label_text\n",
              "8153  an occasionally interesting but mostly repetit...      1       negative\n",
              "5570  if we sometimes need comforting fantasies abou...      3       positive\n",
              "6599  there 's so much to look at in metropolis you ...      4  very positive\n",
              "494   the movie is as far as you can get from racy ,...      0  very negative\n",
              "120   there 's something fundamental missing from th...      1       negative"
            ],
            "text/html": [
              "\n",
              "  <div id=\"df-5a7569be-ec4d-47e1-b046-6c869eee4d76\">\n",
              "    <div class=\"colab-df-container\">\n",
              "      <div>\n",
              "<style scoped>\n",
              "    .dataframe tbody tr th:only-of-type {\n",
              "        vertical-align: middle;\n",
              "    }\n",
              "\n",
              "    .dataframe tbody tr th {\n",
              "        vertical-align: top;\n",
              "    }\n",
              "\n",
              "    .dataframe thead th {\n",
              "        text-align: right;\n",
              "    }\n",
              "</style>\n",
              "<table border=\"1\" class=\"dataframe\">\n",
              "  <thead>\n",
              "    <tr style=\"text-align: right;\">\n",
              "      <th></th>\n",
              "      <th>text</th>\n",
              "      <th>label</th>\n",
              "      <th>label_text</th>\n",
              "    </tr>\n",
              "  </thead>\n",
              "  <tbody>\n",
              "    <tr>\n",
              "      <th>8153</th>\n",
              "      <td>an occasionally interesting but mostly repetit...</td>\n",
              "      <td>1</td>\n",
              "      <td>negative</td>\n",
              "    </tr>\n",
              "    <tr>\n",
              "      <th>5570</th>\n",
              "      <td>if we sometimes need comforting fantasies abou...</td>\n",
              "      <td>3</td>\n",
              "      <td>positive</td>\n",
              "    </tr>\n",
              "    <tr>\n",
              "      <th>6599</th>\n",
              "      <td>there 's so much to look at in metropolis you ...</td>\n",
              "      <td>4</td>\n",
              "      <td>very positive</td>\n",
              "    </tr>\n",
              "    <tr>\n",
              "      <th>494</th>\n",
              "      <td>the movie is as far as you can get from racy ,...</td>\n",
              "      <td>0</td>\n",
              "      <td>very negative</td>\n",
              "    </tr>\n",
              "    <tr>\n",
              "      <th>120</th>\n",
              "      <td>there 's something fundamental missing from th...</td>\n",
              "      <td>1</td>\n",
              "      <td>negative</td>\n",
              "    </tr>\n",
              "  </tbody>\n",
              "</table>\n",
              "</div>\n",
              "      <button class=\"colab-df-convert\" onclick=\"convertToInteractive('df-5a7569be-ec4d-47e1-b046-6c869eee4d76')\"\n",
              "              title=\"Convert this dataframe to an interactive table.\"\n",
              "              style=\"display:none;\">\n",
              "        \n",
              "  <svg xmlns=\"http://www.w3.org/2000/svg\" height=\"24px\"viewBox=\"0 0 24 24\"\n",
              "       width=\"24px\">\n",
              "    <path d=\"M0 0h24v24H0V0z\" fill=\"none\"/>\n",
              "    <path d=\"M18.56 5.44l.94 2.06.94-2.06 2.06-.94-2.06-.94-.94-2.06-.94 2.06-2.06.94zm-11 1L8.5 8.5l.94-2.06 2.06-.94-2.06-.94L8.5 2.5l-.94 2.06-2.06.94zm10 10l.94 2.06.94-2.06 2.06-.94-2.06-.94-.94-2.06-.94 2.06-2.06.94z\"/><path d=\"M17.41 7.96l-1.37-1.37c-.4-.4-.92-.59-1.43-.59-.52 0-1.04.2-1.43.59L10.3 9.45l-7.72 7.72c-.78.78-.78 2.05 0 2.83L4 21.41c.39.39.9.59 1.41.59.51 0 1.02-.2 1.41-.59l7.78-7.78 2.81-2.81c.8-.78.8-2.07 0-2.86zM5.41 20L4 18.59l7.72-7.72 1.47 1.35L5.41 20z\"/>\n",
              "  </svg>\n",
              "      </button>\n",
              "      \n",
              "  <style>\n",
              "    .colab-df-container {\n",
              "      display:flex;\n",
              "      flex-wrap:wrap;\n",
              "      gap: 12px;\n",
              "    }\n",
              "\n",
              "    .colab-df-convert {\n",
              "      background-color: #E8F0FE;\n",
              "      border: none;\n",
              "      border-radius: 50%;\n",
              "      cursor: pointer;\n",
              "      display: none;\n",
              "      fill: #1967D2;\n",
              "      height: 32px;\n",
              "      padding: 0 0 0 0;\n",
              "      width: 32px;\n",
              "    }\n",
              "\n",
              "    .colab-df-convert:hover {\n",
              "      background-color: #E2EBFA;\n",
              "      box-shadow: 0px 1px 2px rgba(60, 64, 67, 0.3), 0px 1px 3px 1px rgba(60, 64, 67, 0.15);\n",
              "      fill: #174EA6;\n",
              "    }\n",
              "\n",
              "    [theme=dark] .colab-df-convert {\n",
              "      background-color: #3B4455;\n",
              "      fill: #D2E3FC;\n",
              "    }\n",
              "\n",
              "    [theme=dark] .colab-df-convert:hover {\n",
              "      background-color: #434B5C;\n",
              "      box-shadow: 0px 1px 3px 1px rgba(0, 0, 0, 0.15);\n",
              "      filter: drop-shadow(0px 1px 2px rgba(0, 0, 0, 0.3));\n",
              "      fill: #FFFFFF;\n",
              "    }\n",
              "  </style>\n",
              "\n",
              "      <script>\n",
              "        const buttonEl =\n",
              "          document.querySelector('#df-5a7569be-ec4d-47e1-b046-6c869eee4d76 button.colab-df-convert');\n",
              "        buttonEl.style.display =\n",
              "          google.colab.kernel.accessAllowed ? 'block' : 'none';\n",
              "\n",
              "        async function convertToInteractive(key) {\n",
              "          const element = document.querySelector('#df-5a7569be-ec4d-47e1-b046-6c869eee4d76');\n",
              "          const dataTable =\n",
              "            await google.colab.kernel.invokeFunction('convertToInteractive',\n",
              "                                                     [key], {});\n",
              "          if (!dataTable) return;\n",
              "\n",
              "          const docLinkHtml = 'Like what you see? Visit the ' +\n",
              "            '<a target=\"_blank\" href=https://colab.research.google.com/notebooks/data_table.ipynb>data table notebook</a>'\n",
              "            + ' to learn more about interactive tables.';\n",
              "          element.innerHTML = '';\n",
              "          dataTable['output_type'] = 'display_data';\n",
              "          await google.colab.output.renderOutput(dataTable, element);\n",
              "          const docLink = document.createElement('div');\n",
              "          docLink.innerHTML = docLinkHtml;\n",
              "          element.appendChild(docLink);\n",
              "        }\n",
              "      </script>\n",
              "    </div>\n",
              "  </div>\n",
              "  "
            ]
          },
          "metadata": {},
          "execution_count": 9
        }
      ],
      "source": [
        "combine_df.sample(5)"
      ]
    },
    {
      "cell_type": "code",
      "execution_count": 10,
      "metadata": {
        "id": "GGTXxwJ1dX4_",
        "colab": {
          "base_uri": "https://localhost:8080/",
          "height": 282
        },
        "outputId": "cb31b2cf-af9e-4a09-a43b-7c60dfd1d09e"
      },
      "outputs": [
        {
          "output_type": "execute_result",
          "data": {
            "text/plain": [
              "<matplotlib.axes._subplots.AxesSubplot at 0x7f2669d21250>"
            ]
          },
          "metadata": {},
          "execution_count": 10
        },
        {
          "output_type": "display_data",
          "data": {
            "text/plain": [
              "<Figure size 432x288 with 1 Axes>"
            ],
            "image/png": "[encoded data removed]"
          },
          "metadata": {
            "needs_background": "light"
          }
        }
      ],
      "source": [
        "# class label ratio\n",
        "\n",
        "x = list(combine_df['label_text'].value_counts().keys())\n",
        "y = list(combine_df['label_text'].value_counts().values)\n",
        "sns.barplot(x=x, y=y)"
      ]
    },
    {
      "cell_type": "code",
      "execution_count": 11,
      "metadata": {
        "colab": {
          "base_uri": "https://localhost:8080/"
        },
        "id": "z7Wm0rphdX5A",
        "outputId": "86b7c4ff-4203-49a4-d131-f3a869be3391"
      },
      "outputs": [
        {
          "output_type": "stream",
          "name": "stdout",
          "text": [
            "1: a stirring , funny and finally transporting re-imagining of beauty and the beast and 1930s horror films\n",
            "\n",
            "2: apparently reassembled from the cutting-room floor of any given daytime soap .\n",
            "\n",
            "3: they presume their audience wo n't sit still for a sociology lesson , however entertainingly presented , so they trot out the conventional science-fiction elements of bug-eyed monsters and futuristic women in skimpy clothes .\n",
            "\n",
            "4: the entire movie is filled with deja vu moments .\n",
            "\n",
            "5: this is a visually stunning rumination on love , memory , history and the war between art and commerce .\n",
            "\n",
            "6: um , no. .\n",
            "\n"
          ]
        }
      ],
      "source": [
        "for i, row in enumerate(combine_df.iterrows()):\n",
        "    row = row[1]\n",
        "    print(f\"{i+1}:\",row['text'])\n",
        "    print()\n",
        "    if i == 5:\n",
        "        break"
      ]
    },
    {
      "cell_type": "code",
      "source": [
        "model_name = \"bert-base-uncased\"\n",
        "tokenizer = BertTokenizer.from_pretrained(model_name)"
      ],
      "metadata": {
        "id": "zaUoihxQ9ZJ2"
      },
      "execution_count": null,
      "outputs": []
    },
    {
      "cell_type": "code",
      "source": [
        "# BERT tokenizer example (to demonstrate what BERT do behind the scene)\n",
        "\n",
        "sample_text = \"Hello Shyam, how are you?\"\n",
        "\n",
        "# generating tokens\n",
        "tokens = tokenizer.tokenize(sample_text)\n",
        "print(\"tokens:\",tokens,'\\n')\n",
        "\n",
        "ids = tokenizer.convert_tokens_to_ids(tokens)\n",
        "print(\"convert_tokens_to_ids:\",ids,'\\n')\n",
        "\n",
        "\n",
        "ids_encode = tokenizer.encode(sample_text,add_special_tokens = True,\n",
        "                                   max_length =30,pad_to_max_length = True,\n",
        "                                   return_attention_mask = True)\n",
        "print(\"encode:\",ids_encode,'\\n')\n",
        "\n",
        "\n",
        "\n",
        "ids_encode_plus = tokenizer.encode_plus(sample_text,add_special_tokens = True,max_length =30,pad_to_max_length = True,\n",
        "return_attention_mask = True)\n",
        "print(\"encode_plus:\",ids_encode_plus,'\\n')\n",
        "\n",
        "print(\"convert_ids_to_tokens:\",tokenizer.convert_ids_to_tokens(ids),'\\n')\n",
        "\n",
        "print(\"decode:\",tokenizer.decode(ids_encode_plus['input_ids']),'\\n')\n",
        "\n",
        "print(\"convert_ids_to_tokens(101):\",tokenizer.convert_ids_to_tokens(101))"
      ],
      "metadata": {
        "id": "xWvRa7xZaUxw",
        "colab": {
          "base_uri": "https://localhost:8080/"
        },
        "outputId": "8f16a602-3ab1-4d56-d59a-599bb3264491"
      },
      "execution_count": 43,
      "outputs": [
        {
          "output_type": "stream",
          "name": "stdout",
          "text": [
            "tokens: ['hello', 'shy', '##am', ',', 'how', 'are', 'you', '?'] \n",
            "\n",
            "convert_tokens_to_ids: [7592, 11004, 3286, 1010, 2129, 2024, 2017, 1029] \n",
            "\n",
            "encode: [101, 7592, 11004, 3286, 1010, 2129, 2024, 2017, 1029, 102, 0, 0, 0, 0, 0, 0, 0, 0, 0, 0, 0, 0, 0, 0, 0, 0, 0, 0, 0, 0] \n",
            "\n",
            "encode_plus: {'input_ids': [101, 7592, 11004, 3286, 1010, 2129, 2024, 2017, 1029, 102, 0, 0, 0, 0, 0, 0, 0, 0, 0, 0, 0, 0, 0, 0, 0, 0, 0, 0, 0, 0], 'token_type_ids': [0, 0, 0, 0, 0, 0, 0, 0, 0, 0, 0, 0, 0, 0, 0, 0, 0, 0, 0, 0, 0, 0, 0, 0, 0, 0, 0, 0, 0, 0], 'attention_mask': [1, 1, 1, 1, 1, 1, 1, 1, 1, 1, 0, 0, 0, 0, 0, 0, 0, 0, 0, 0, 0, 0, 0, 0, 0, 0, 0, 0, 0, 0]} \n",
            "\n",
            "convert_ids_to_tokens: ['hello', 'shy', '##am', ',', 'how', 'are', 'you', '?'] \n",
            "\n",
            "decode: [CLS] hello shyam, how are you? [SEP] [PAD] [PAD] [PAD] [PAD] [PAD] [PAD] [PAD] [PAD] [PAD] [PAD] [PAD] [PAD] [PAD] [PAD] [PAD] [PAD] [PAD] [PAD] [PAD] [PAD] \n",
            "\n",
            "convert_ids_to_tokens(101): [CLS]\n"
          ]
        }
      ]
    },
    {
      "cell_type": "code",
      "source": [],
      "metadata": {
        "id": "v4nTTPaMLwdi"
      },
      "execution_count": 11,
      "outputs": []
    },
    {
      "cell_type": "markdown",
      "source": [
        "#### Modeling"
      ],
      "metadata": {
        "id": "1f-sIrIWLv2L"
      }
    },
    {
      "cell_type": "code",
      "source": [
        "# identifying max length of text to set the padding till the max length.\n",
        "\n",
        "max_len_text = 0\n",
        "for txt in test_df['text'].values:\n",
        "  # print(len(txt))\n",
        "  if len(txt) > max_len_text:\n",
        "    max_len_text = len(txt)\n",
        "  else:\n",
        "    pass\n",
        "print(max_len_text)"
      ],
      "metadata": {
        "colab": {
          "base_uri": "https://localhost:8080/"
        },
        "id": "UAjtKjwy9v2T",
        "outputId": "35f87ed6-a5bc-4afc-e9a2-5d506ca9de1a"
      },
      "execution_count": 44,
      "outputs": [
        {
          "output_type": "stream",
          "name": "stdout",
          "text": [
            "256\n"
          ]
        }
      ]
    },
    {
      "cell_type": "code",
      "source": [
        "# hyperparameters\n",
        "max_length = 256\n",
        "batch_size = 16"
      ],
      "metadata": {
        "id": "NVokxp1e3OXm"
      },
      "execution_count": 12,
      "outputs": []
    },
    {
      "cell_type": "markdown",
      "source": [
        "#### Train-test split"
      ],
      "metadata": {
        "id": "JcmrsOpGAHHD"
      }
    },
    {
      "cell_type": "code",
      "source": [
        "x_train, x_test, y_train, y_test = train_test_split(train_df['text'], train_df['label'], test_size=0.2)"
      ],
      "metadata": {
        "id": "BqDeJy6cYLE1"
      },
      "execution_count": 15,
      "outputs": []
    },
    {
      "cell_type": "code",
      "source": [
        "# x_train = train_df['text']\n",
        "# y_train = train_df['label']\n",
        "\n",
        "# x_test = test_df['text']\n",
        "# y_test = test_df['label']"
      ],
      "metadata": {
        "id": "GH7xoxM8NGxb"
      },
      "execution_count": 16,
      "outputs": []
    },
    {
      "cell_type": "code",
      "source": [
        "def bert_encode(data):\n",
        "    tokens = tokenizer.batch_encode_plus(data, max_length=max_length, padding='max_length', truncation=True)\n",
        "    \n",
        "    return tf.constant(tokens['input_ids'])"
      ],
      "metadata": {
        "id": "FdygBgNW3NzB"
      },
      "execution_count": 17,
      "outputs": []
    },
    {
      "cell_type": "code",
      "source": [
        "train_encoded = bert_encode(x_train)\n",
        "test_encoded = bert_encode(x_test)\n",
        "\n",
        "\n",
        "train_dataset = (\n",
        "    tf.data.Dataset\n",
        "    .from_tensor_slices((train_encoded, y_train))\n",
        "    .shuffle(100)\n",
        "    .batch(batch_size)\n",
        ")\n",
        "\n",
        "test_dataset = (\n",
        "    tf.data.Dataset\n",
        "    .from_tensor_slices((test_encoded, y_test))\n",
        "    .shuffle(100)\n",
        "    .batch(batch_size)\n",
        ")"
      ],
      "metadata": {
        "id": "qcASUkX93NmV"
      },
      "execution_count": 18,
      "outputs": []
    },
    {
      "cell_type": "code",
      "source": [
        "def bert_model():\n",
        "    bert_encoder = TFBertModel.from_pretrained(model_name)\n",
        "    input_word_ids = tf.keras.Input(shape=(max_length,), dtype=tf.int32, name=\"input_ids\")\n",
        "    last_hidden_states = bert_encoder(input_word_ids)[0]    \n",
        "    x = tf.keras.layers.LSTM(100, dropout=0.3, recurrent_dropout=0.3)(last_hidden_states)\n",
        "\n",
        "\n",
        "    net = tf.keras.layers.Dense(64,activation='relu')(x)\n",
        "    #net = tf.keras.layers.Dropout(0.1)(net)\n",
        "    net = tf.keras.layers.Dense(16,activation='relu')(net)\n",
        "    net = tf.keras.layers.Dense(5, activation=None, name='classifier')(net)\n",
        "\n",
        "\n",
        "    model = tf.keras.Model(inputs=input_word_ids, outputs=net)\n",
        "    \n",
        "    return model"
      ],
      "metadata": {
        "id": "6qeC3WdH3NUE"
      },
      "execution_count": 26,
      "outputs": []
    },
    {
      "cell_type": "code",
      "source": [
        "model = bert_model()\n",
        "adam_optimizer = tf.keras.optimizers.Adam(learning_rate=1e-5)\n",
        "model.compile(loss='binary_crossentropy',optimizer=adam_optimizer,metrics=['accuracy'])\n",
        "\n",
        "model.summary()"
      ],
      "metadata": {
        "colab": {
          "base_uri": "https://localhost:8080/"
        },
        "id": "wE3JiN_83M_q",
        "outputId": "12154e2d-a997-490a-e0a1-135ab63b3a61"
      },
      "execution_count": 27,
      "outputs": [
        {
          "output_type": "stream",
          "name": "stderr",
          "text": [
            "Some layers from the model checkpoint at bert-base-uncased were not used when initializing TFBertModel: ['mlm___cls', 'nsp___cls']\n",
            "- This IS expected if you are initializing TFBertModel from the checkpoint of a model trained on another task or with another architecture (e.g. initializing a BertForSequenceClassification model from a BertForPreTraining model).\n",
            "- This IS NOT expected if you are initializing TFBertModel from the checkpoint of a model that you expect to be exactly identical (initializing a BertForSequenceClassification model from a BertForSequenceClassification model).\n",
            "All the layers of TFBertModel were initialized from the model checkpoint at bert-base-uncased.\n",
            "If your task is similar to the task the model of the checkpoint was trained on, you can already use TFBertModel for predictions without further training.\n",
            "WARNING:tensorflow:Layer lstm_2 will not use cuDNN kernels since it doesn't meet the criteria. It will use a generic GPU kernel as fallback when running on GPU.\n"
          ]
        },
        {
          "output_type": "stream",
          "name": "stdout",
          "text": [
            "Model: \"model_2\"\n",
            "_________________________________________________________________\n",
            " Layer (type)                Output Shape              Param #   \n",
            "=================================================================\n",
            " input_ids (InputLayer)      [(None, 283)]             0         \n",
            "                                                                 \n",
            " tf_bert_model_2 (TFBertMode  TFBaseModelOutputWithPoo  109482240\n",
            " l)                          lingAndCrossAttentions(l            \n",
            "                             ast_hidden_state=(None,             \n",
            "                             283, 768),                          \n",
            "                              pooler_output=(None, 76            \n",
            "                             8),                                 \n",
            "                              past_key_values=None, h            \n",
            "                             idden_states=None, atten            \n",
            "                             tions=None, cross_attent            \n",
            "                             ions=None)                          \n",
            "                                                                 \n",
            " lstm_2 (LSTM)               (None, 100)               347600    \n",
            "                                                                 \n",
            " dense_3 (Dense)             (None, 64)                6464      \n",
            "                                                                 \n",
            " dense_4 (Dense)             (None, 16)                1040      \n",
            "                                                                 \n",
            " classifier (Dense)          (None, 5)                 85        \n",
            "                                                                 \n",
            "=================================================================\n",
            "Total params: 109,837,429\n",
            "Trainable params: 109,837,429\n",
            "Non-trainable params: 0\n",
            "_________________________________________________________________\n"
          ]
        }
      ]
    },
    {
      "cell_type": "code",
      "source": [
        "history = model.fit(\n",
        "    train_dataset,\n",
        "    batch_size=batch_size,\n",
        "    epochs=3,\n",
        "    validation_data=test_dataset)\n"
      ],
      "metadata": {
        "colab": {
          "base_uri": "https://localhost:8080/"
        },
        "id": "-2OJ83Wu3Mws",
        "outputId": "5f18b04e-047d-4789-8b1b-32289ca35074"
      },
      "execution_count": 28,
      "outputs": [
        {
          "output_type": "stream",
          "name": "stdout",
          "text": [
            "Epoch 1/3\n"
          ]
        },
        {
          "output_type": "stream",
          "name": "stderr",
          "text": [
            "WARNING:tensorflow:Gradients do not exist for variables ['tf_bert_model_2/bert/pooler/dense/kernel:0', 'tf_bert_model_2/bert/pooler/dense/bias:0'] when minimizing the loss. If you're using `model.compile()`, did you forget to provide a `loss`argument?\n",
            "WARNING:tensorflow:Gradients do not exist for variables ['tf_bert_model_2/bert/pooler/dense/kernel:0', 'tf_bert_model_2/bert/pooler/dense/bias:0'] when minimizing the loss. If you're using `model.compile()`, did you forget to provide a `loss`argument?\n"
          ]
        },
        {
          "output_type": "stream",
          "name": "stdout",
          "text": [
            "428/428 [==============================] - 1002s 2s/step - loss: -5.1356 - accuracy: 0.2279 - val_loss: -6.7441 - val_accuracy: 0.2774\n",
            "Epoch 2/3\n",
            "428/428 [==============================] - 896s 2s/step - loss: -6.5111 - accuracy: 0.2380 - val_loss: -6.7441 - val_accuracy: 0.2774\n",
            "Epoch 3/3\n",
            "428/428 [==============================] - 900s 2s/step - loss: -6.5097 - accuracy: 0.2323 - val_loss: -6.7441 - val_accuracy: 0.2774\n"
          ]
        }
      ]
    },
    {
      "cell_type": "code",
      "source": [],
      "metadata": {
        "id": "jLx3dr703MhZ"
      },
      "execution_count": null,
      "outputs": []
    },
    {
      "cell_type": "code",
      "source": [
        "import matplotlib.pyplot as plt\n",
        "\n",
        "def plot_graphs(history, string):\n",
        "  plt.plot(history.history[string])\n",
        "  plt.plot(history.history['val_'+string])\n",
        "  plt.xlabel(\"Epochs\")\n",
        "  plt.ylabel(string)\n",
        "  plt.legend([string, 'val_'+string])\n",
        "  plt.show()\n",
        "  \n",
        "plot_graphs(history, \"accuracy\")\n",
        "plot_graphs(history, \"loss\")"
      ],
      "metadata": {
        "id": "3uLYja1m3MSi",
        "colab": {
          "base_uri": "https://localhost:8080/",
          "height": 541
        },
        "outputId": "ff791ed9-beb4-4d0e-ccf4-938428e0aeae"
      },
      "execution_count": 29,
      "outputs": [
        {
          "output_type": "display_data",
          "data": {
            "text/plain": [
              "<Figure size 432x288 with 1 Axes>"
            ],
            "image/png": "[encoded data removed]"
          },
          "metadata": {
            "needs_background": "light"
          }
        },
        {
          "output_type": "display_data",
          "data": {
            "text/plain": [
              "<Figure size 432x288 with 1 Axes>"
            ],
            "image/png": "[encoded data removed]"
          },
          "metadata": {
            "needs_background": "light"
          }
        }
      ]
    },
    {
      "cell_type": "code",
      "source": [],
      "metadata": {
        "id": "AXq_grHT3ME9"
      },
      "execution_count": null,
      "outputs": []
    },
    {
      "cell_type": "code",
      "source": [
        "predicted = model.predict(test_dataset, batch_size=batch_size)\n"
      ],
      "metadata": {
        "colab": {
          "base_uri": "https://localhost:8080/"
        },
        "id": "EgbzLhg-7r-l",
        "outputId": "e1999fdd-c8df-4195-b0e1-492aae999940"
      },
      "execution_count": 30,
      "outputs": [
        {
          "output_type": "stream",
          "name": "stdout",
          "text": [
            "107/107 [==============================] - 49s 422ms/step\n"
          ]
        }
      ]
    },
    {
      "cell_type": "code",
      "source": [],
      "metadata": {
        "id": "6QCLAGe798Kx"
      },
      "execution_count": null,
      "outputs": []
    },
    {
      "cell_type": "code",
      "execution_count": null,
      "metadata": {
        "id": "iNufvG1K3H-7"
      },
      "outputs": [],
      "source": []
    }
  ]
}